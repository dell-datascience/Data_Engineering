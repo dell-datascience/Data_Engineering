{
 "cells": [
  {
   "cell_type": "code",
   "execution_count": 97,
   "id": "07de9dc3",
   "metadata": {},
   "outputs": [],
   "source": [
    "import pyspark\n",
    "from pyspark.sql import SparkSession\n",
    "import pandas as pd"
   ]
  },
  {
   "cell_type": "code",
   "execution_count": 98,
   "id": "ca5bbb06",
   "metadata": {},
   "outputs": [],
   "source": [
    "spark = SparkSession.builder \\\n",
    "        .master(\"local[*]\") \\\n",
    "        .appName('test') \\\n",
    "        .getOrCreate()"
   ]
  },
  {
   "cell_type": "code",
   "execution_count": 3,
   "id": "cf8de204",
   "metadata": {},
   "outputs": [
    {
     "name": "stdout",
     "output_type": "stream",
     "text": [
      "--2024-02-25 18:46:56--  https://d37ci6vzurychx.cloudfront.net/trip-data/fhvhv_tripdata_2021-01.parquet\n",
      "Resolving d37ci6vzurychx.cloudfront.net (d37ci6vzurychx.cloudfront.net)... 2600:9000:2684:ec00:b:20a5:b140:21, 2600:9000:2684:3000:b:20a5:b140:21, 2600:9000:2684:2e00:b:20a5:b140:21, ...\n",
      "Connecting to d37ci6vzurychx.cloudfront.net (d37ci6vzurychx.cloudfront.net)|2600:9000:2684:ec00:b:20a5:b140:21|:443... connected.\n",
      "HTTP request sent, awaiting response... 200 OK\n",
      "Length: 308924937 (295M) [application/x-www-form-urlencoded]\n",
      "Saving to: ‘fhvhv_tripdata_2021-01.parquet’\n",
      "\n",
      "fhvhv_tripdata_2021 100%[===================>] 294.61M  4.46MB/s    in 93s     \n",
      "\n",
      "2024-02-25 18:48:29 (3.16 MB/s) - ‘fhvhv_tripdata_2021-01.parquet’ saved [308924937/308924937]\n",
      "\n"
     ]
    }
   ],
   "source": [
    "# !wget https://nyc-tlc.s3.amazonaws.com/trip+data/fhvhv_tripdata_2021-01.csv\n",
    "!wget https://d37ci6vzurychx.cloudfront.net/trip-data/fhvhv_tripdata_2021-01.parquet"
   ]
  },
  {
   "cell_type": "code",
   "execution_count": 4,
   "id": "2a52087c",
   "metadata": {},
   "outputs": [
    {
     "name": "stdout",
     "output_type": "stream",
     "text": [
      " 1006794 fhvhv_tripdata_2021-01.parquet\n"
     ]
    }
   ],
   "source": [
    "!wc -l fhvhv_tripdata_2021-01.parquet"
   ]
  },
  {
   "cell_type": "code",
   "execution_count": 83,
   "id": "32d813e6",
   "metadata": {},
   "outputs": [],
   "source": [
    "df = pd.read_parquet('fhvhv_tripdata_2021-01.parquet')\n",
    "df.to_csv('fhvhv_tripdata_2021-01.csv', index=False)"
   ]
  },
  {
   "cell_type": "code",
   "execution_count": 85,
   "id": "931021a7",
   "metadata": {},
   "outputs": [
    {
     "name": "stderr",
     "output_type": "stream",
     "text": [
      "                                                                                \r"
     ]
    }
   ],
   "source": [
    "df = spark.read \\\n",
    "    .option(\"header\", \"true\") \\\n",
    "    .csv('fhvhv_tripdata_2021-01.csv',inferSchema=True)"
   ]
  },
  {
   "cell_type": "code",
   "execution_count": 86,
   "id": "d44b7839",
   "metadata": {},
   "outputs": [
    {
     "data": {
      "text/plain": [
       "StructType([StructField('hvfhs_license_num', StringType(), True), StructField('dispatching_base_num', StringType(), True), StructField('originating_base_num', StringType(), True), StructField('request_datetime', TimestampType(), True), StructField('on_scene_datetime', TimestampType(), True), StructField('pickup_datetime', TimestampType(), True), StructField('dropoff_datetime', TimestampType(), True), StructField('PULocationID', IntegerType(), True), StructField('DOLocationID', IntegerType(), True), StructField('trip_miles', DoubleType(), True), StructField('trip_time', IntegerType(), True), StructField('base_passenger_fare', DoubleType(), True), StructField('tolls', DoubleType(), True), StructField('bcf', DoubleType(), True), StructField('sales_tax', DoubleType(), True), StructField('congestion_surcharge', DoubleType(), True), StructField('airport_fee', DoubleType(), True), StructField('tips', DoubleType(), True), StructField('driver_pay', DoubleType(), True), StructField('shared_request_flag', StringType(), True), StructField('shared_match_flag', StringType(), True), StructField('access_a_ride_flag', StringType(), True), StructField('wav_request_flag', StringType(), True), StructField('wav_match_flag', StringType(), True)])"
      ]
     },
     "execution_count": 86,
     "metadata": {},
     "output_type": "execute_result"
    }
   ],
   "source": [
    "df.schema"
   ]
  },
  {
   "cell_type": "code",
   "execution_count": 99,
   "id": "4249e790",
   "metadata": {},
   "outputs": [],
   "source": [
    "!head -n 1001 fhvhv_tripdata_2021-01.csv > head.csv"
   ]
  },
  {
   "cell_type": "code",
   "execution_count": 100,
   "id": "5b554cbc",
   "metadata": {},
   "outputs": [],
   "source": [
    "df1 =  spark.read \\\n",
    "            .option(\"header\", \"true\") \\\n",
    "            .csv('head.csv',inferSchema=True)"
   ]
  },
  {
   "cell_type": "code",
   "execution_count": 101,
   "id": "15b8e7d4",
   "metadata": {},
   "outputs": [
    {
     "data": {
      "text/plain": [
       "StructType([StructField('hvfhs_license_num', StringType(), True), StructField('dispatching_base_num', StringType(), True), StructField('originating_base_num', StringType(), True), StructField('request_datetime', TimestampType(), True), StructField('on_scene_datetime', TimestampType(), True), StructField('pickup_datetime', TimestampType(), True), StructField('dropoff_datetime', TimestampType(), True), StructField('PULocationID', IntegerType(), True), StructField('DOLocationID', IntegerType(), True), StructField('trip_miles', DoubleType(), True), StructField('trip_time', IntegerType(), True), StructField('base_passenger_fare', DoubleType(), True), StructField('tolls', DoubleType(), True), StructField('bcf', DoubleType(), True), StructField('sales_tax', DoubleType(), True), StructField('congestion_surcharge', DoubleType(), True), StructField('airport_fee', StringType(), True), StructField('tips', DoubleType(), True), StructField('driver_pay', DoubleType(), True), StructField('shared_request_flag', StringType(), True), StructField('shared_match_flag', StringType(), True), StructField('access_a_ride_flag', StringType(), True), StructField('wav_request_flag', StringType(), True), StructField('wav_match_flag', StringType(), True)])"
      ]
     },
     "execution_count": 101,
     "metadata": {},
     "output_type": "execute_result"
    }
   ],
   "source": [
    "df1.schema"
   ]
  },
  {
   "cell_type": "code",
   "execution_count": 102,
   "id": "042f4994",
   "metadata": {},
   "outputs": [
    {
     "name": "stdout",
     "output_type": "stream",
     "text": [
      "+-----------------+--------------------+--------------------+-------------------+-------------------+-------------------+-------------------+------------+------------+----------+---------+-------------------+-----+----+---------+--------------------+-----------+----+----------+-------------------+-----------------+------------------+----------------+--------------+\n",
      "|hvfhs_license_num|dispatching_base_num|originating_base_num|   request_datetime|  on_scene_datetime|    pickup_datetime|   dropoff_datetime|PULocationID|DOLocationID|trip_miles|trip_time|base_passenger_fare|tolls| bcf|sales_tax|congestion_surcharge|airport_fee|tips|driver_pay|shared_request_flag|shared_match_flag|access_a_ride_flag|wav_request_flag|wav_match_flag|\n",
      "+-----------------+--------------------+--------------------+-------------------+-------------------+-------------------+-------------------+------------+------------+----------+---------+-------------------+-----+----+---------+--------------------+-----------+----+----------+-------------------+-----------------+------------------+----------------+--------------+\n",
      "|           HV0003|              B02682|              B02682|2021-01-01 00:28:09|2021-01-01 00:31:42|2021-01-01 00:33:44|2021-01-01 00:49:07|         230|         166|      5.26|      923|              22.28|  0.0|0.67|     1.98|                2.75|       NULL| 0.0|     14.99|                  N|                N|                  |               N|             N|\n",
      "|           HV0003|              B02682|              B02682|2021-01-01 00:45:56|2021-01-01 00:55:19|2021-01-01 00:55:19|2021-01-01 01:18:21|         152|         167|      3.65|     1382|              18.36|  0.0|0.55|     1.63|                 0.0|       NULL| 0.0|     17.06|                  N|                N|                  |               N|             N|\n",
      "|           HV0003|              B02764|              B02764|2021-01-01 00:21:15|2021-01-01 00:22:41|2021-01-01 00:23:56|2021-01-01 00:38:05|         233|         142|      3.51|      849|              14.05|  0.0|0.48|     1.25|                2.75|       NULL|0.94|     12.98|                  N|                N|                  |               N|             N|\n",
      "|           HV0003|              B02764|              B02764|2021-01-01 00:39:12|2021-01-01 00:42:37|2021-01-01 00:42:51|2021-01-01 00:45:50|         142|         143|      0.74|      179|               7.91|  0.0|0.24|      0.7|                2.75|       NULL| 0.0|      7.41|                  N|                N|                  |               N|             N|\n",
      "|           HV0003|              B02764|              B02764|2021-01-01 00:46:11|2021-01-01 00:47:17|2021-01-01 00:48:14|2021-01-01 01:08:42|         143|          78|       9.2|     1228|              27.11|  0.0|0.81|     2.41|                2.75|       NULL| 0.0|     22.44|                  N|                N|                  |               N|             N|\n",
      "|           HV0005|              B02510|                NULL|2021-01-01 00:04:00|               NULL|2021-01-01 00:06:59|2021-01-01 00:43:01|          88|          42|     9.725|     2162|              28.11|  0.0|0.84|     2.49|                2.75|       NULL| 0.0|      28.9|                  N|                N|                 N|               N|             N|\n",
      "|           HV0005|              B02510|                NULL|2021-01-01 00:40:06|               NULL|2021-01-01 00:50:00|2021-01-01 01:04:57|          42|         151|     2.469|      897|              25.03|  0.0|0.75|     2.22|                 0.0|       NULL| 0.0|     15.01|                  N|                N|                 N|               N|             N|\n",
      "|           HV0003|              B02764|              B02764|2021-01-01 00:10:36|2021-01-01 00:12:28|2021-01-01 00:14:30|2021-01-01 00:50:27|          71|         226|     13.53|     2157|              29.67|  0.0|1.04|     3.08|                 0.0|       NULL| 0.0|      34.2|                  N|                N|                  |               N|             N|\n",
      "|           HV0003|              B02875|              B02875|2021-01-01 00:21:17|2021-01-01 00:22:25|2021-01-01 00:22:54|2021-01-01 00:30:20|         112|         255|       1.6|      446|               6.89|  0.0|0.21|     0.61|                 0.0|       NULL| 0.0|      6.26|                  N|                N|                  |               N|             N|\n",
      "|           HV0003|              B02875|              B02875|2021-01-01 00:36:57|2021-01-01 00:38:09|2021-01-01 00:40:12|2021-01-01 00:53:31|         255|         232|       3.2|      800|              11.51|  0.0|0.53|     1.03|                2.75|       NULL|2.82|     10.99|                  N|                N|                  |               N|             N|\n",
      "|           HV0003|              B02875|              B02875|2021-01-01 00:53:31|2021-01-01 00:56:21|2021-01-01 00:56:45|2021-01-01 01:17:42|         232|         198|      5.74|     1257|              17.18|  0.0|0.52|     1.52|                2.75|       NULL| 0.0|     17.61|                  N|                N|                  |               N|             N|\n",
      "|           HV0003|              B02835|              B02835|2021-01-01 00:22:58|2021-01-01 00:27:01|2021-01-01 00:29:04|2021-01-01 00:36:27|         113|          48|       1.8|      443|               8.18|  0.0|0.25|     0.73|                2.75|       NULL| 0.0|      6.12|                  N|                N|                  |               N|             N|\n",
      "|           HV0003|              B02835|              B02835|2021-01-01 00:46:44|2021-01-01 00:47:49|2021-01-01 00:48:56|2021-01-01 00:59:12|         239|          75|       2.9|      616|               13.1|  0.0|0.45|     1.17|                2.75|       NULL|0.94|      8.77|                  N|                N|                  |               N|             N|\n",
      "|           HV0004|              B02800|                NULL|2021-01-01 00:12:50|               NULL|2021-01-01 00:15:24|2021-01-01 00:38:31|         181|         237|      9.66|     1387|              32.95|  0.0| 0.0|     2.34|                2.75|       NULL| 0.0|      21.1|                  N|                N|                 N|               N|             N|\n",
      "|           HV0004|              B02800|                NULL|2021-01-01 00:35:32|               NULL|2021-01-01 00:45:00|2021-01-01 01:06:45|         236|          68|      4.38|     1305|              22.91|  0.0| 0.0|     1.63|                2.75|       NULL|3.43|     15.82|                  N|                N|                 N|               N|             N|\n",
      "|           HV0003|              B02682|              B02682|2021-01-01 00:10:22|2021-01-01 00:11:03|2021-01-01 00:11:53|2021-01-01 00:18:06|         256|         148|      2.03|      373|               7.84|  0.0|0.42|      0.7|                2.75|       NULL|2.82|      6.93|                  N|                N|                  |               N|             N|\n",
      "|           HV0003|              B02682|              B02682|2021-01-01 00:25:00|2021-01-01 00:26:31|2021-01-01 00:28:31|2021-01-01 00:41:40|          79|          80|      3.08|      789|               13.2|  0.0| 0.4|     1.17|                2.75|       NULL| 0.0|     11.54|                  N|                N|                  |               N|             N|\n",
      "|           HV0003|              B02682|              B02682|2021-01-01 00:44:56|2021-01-01 00:49:55|2021-01-01 00:50:49|2021-01-01 00:55:59|          17|         217|      1.17|      310|               7.91|  0.0|0.24|      0.7|                 0.0|       NULL| 0.0|      6.94|                  N|                N|                  |               N|             N|\n",
      "|           HV0005|              B02510|                NULL|2021-01-01 00:05:04|               NULL|2021-01-01 00:08:40|2021-01-01 00:39:39|          62|          29|    10.852|     1859|              31.18|  0.0|0.94|     2.77|                 0.0|       NULL| 0.0|     27.61|                  N|                N|                 N|               N|             N|\n",
      "|           HV0003|              B02836|              B02836|2021-01-01 00:40:44|2021-01-01 00:53:34|2021-01-01 00:53:48|2021-01-01 01:11:40|          22|          22|      3.52|     1072|              28.67|  0.0|0.86|     2.54|                 0.0|       NULL| 0.0|     17.64|                  N|                N|                  |               N|             N|\n",
      "+-----------------+--------------------+--------------------+-------------------+-------------------+-------------------+-------------------+------------+------------+----------+---------+-------------------+-----+----+---------+--------------------+-----------+----+----------+-------------------+-----------------+------------------+----------------+--------------+\n",
      "only showing top 20 rows\n",
      "\n"
     ]
    }
   ],
   "source": [
    "df1.show()"
   ]
  },
  {
   "cell_type": "code",
   "execution_count": 103,
   "id": "f3ca771b",
   "metadata": {},
   "outputs": [],
   "source": [
    "df_pandas = pd.read_csv('head.csv')"
   ]
  },
  {
   "cell_type": "code",
   "execution_count": 104,
   "id": "6b89de16",
   "metadata": {},
   "outputs": [
    {
     "data": {
      "text/html": [
       "<div>\n",
       "<style scoped>\n",
       "    .dataframe tbody tr th:only-of-type {\n",
       "        vertical-align: middle;\n",
       "    }\n",
       "\n",
       "    .dataframe tbody tr th {\n",
       "        vertical-align: top;\n",
       "    }\n",
       "\n",
       "    .dataframe thead th {\n",
       "        text-align: right;\n",
       "    }\n",
       "</style>\n",
       "<table border=\"1\" class=\"dataframe\">\n",
       "  <thead>\n",
       "    <tr style=\"text-align: right;\">\n",
       "      <th></th>\n",
       "      <th>hvfhs_license_num</th>\n",
       "      <th>dispatching_base_num</th>\n",
       "      <th>originating_base_num</th>\n",
       "      <th>request_datetime</th>\n",
       "      <th>on_scene_datetime</th>\n",
       "      <th>pickup_datetime</th>\n",
       "      <th>dropoff_datetime</th>\n",
       "      <th>PULocationID</th>\n",
       "      <th>DOLocationID</th>\n",
       "      <th>trip_miles</th>\n",
       "      <th>...</th>\n",
       "      <th>sales_tax</th>\n",
       "      <th>congestion_surcharge</th>\n",
       "      <th>airport_fee</th>\n",
       "      <th>tips</th>\n",
       "      <th>driver_pay</th>\n",
       "      <th>shared_request_flag</th>\n",
       "      <th>shared_match_flag</th>\n",
       "      <th>access_a_ride_flag</th>\n",
       "      <th>wav_request_flag</th>\n",
       "      <th>wav_match_flag</th>\n",
       "    </tr>\n",
       "  </thead>\n",
       "  <tbody>\n",
       "    <tr>\n",
       "      <th>0</th>\n",
       "      <td>HV0003</td>\n",
       "      <td>B02682</td>\n",
       "      <td>B02682</td>\n",
       "      <td>2021-01-01 00:28:09</td>\n",
       "      <td>2021-01-01 00:31:42</td>\n",
       "      <td>2021-01-01 00:33:44</td>\n",
       "      <td>2021-01-01 00:49:07</td>\n",
       "      <td>230</td>\n",
       "      <td>166</td>\n",
       "      <td>5.260</td>\n",
       "      <td>...</td>\n",
       "      <td>1.98</td>\n",
       "      <td>2.75</td>\n",
       "      <td>NaN</td>\n",
       "      <td>0.00</td>\n",
       "      <td>14.99</td>\n",
       "      <td>N</td>\n",
       "      <td>N</td>\n",
       "      <td></td>\n",
       "      <td>N</td>\n",
       "      <td>N</td>\n",
       "    </tr>\n",
       "    <tr>\n",
       "      <th>1</th>\n",
       "      <td>HV0003</td>\n",
       "      <td>B02682</td>\n",
       "      <td>B02682</td>\n",
       "      <td>2021-01-01 00:45:56</td>\n",
       "      <td>2021-01-01 00:55:19</td>\n",
       "      <td>2021-01-01 00:55:19</td>\n",
       "      <td>2021-01-01 01:18:21</td>\n",
       "      <td>152</td>\n",
       "      <td>167</td>\n",
       "      <td>3.650</td>\n",
       "      <td>...</td>\n",
       "      <td>1.63</td>\n",
       "      <td>0.00</td>\n",
       "      <td>NaN</td>\n",
       "      <td>0.00</td>\n",
       "      <td>17.06</td>\n",
       "      <td>N</td>\n",
       "      <td>N</td>\n",
       "      <td></td>\n",
       "      <td>N</td>\n",
       "      <td>N</td>\n",
       "    </tr>\n",
       "    <tr>\n",
       "      <th>2</th>\n",
       "      <td>HV0003</td>\n",
       "      <td>B02764</td>\n",
       "      <td>B02764</td>\n",
       "      <td>2021-01-01 00:21:15</td>\n",
       "      <td>2021-01-01 00:22:41</td>\n",
       "      <td>2021-01-01 00:23:56</td>\n",
       "      <td>2021-01-01 00:38:05</td>\n",
       "      <td>233</td>\n",
       "      <td>142</td>\n",
       "      <td>3.510</td>\n",
       "      <td>...</td>\n",
       "      <td>1.25</td>\n",
       "      <td>2.75</td>\n",
       "      <td>NaN</td>\n",
       "      <td>0.94</td>\n",
       "      <td>12.98</td>\n",
       "      <td>N</td>\n",
       "      <td>N</td>\n",
       "      <td></td>\n",
       "      <td>N</td>\n",
       "      <td>N</td>\n",
       "    </tr>\n",
       "    <tr>\n",
       "      <th>3</th>\n",
       "      <td>HV0003</td>\n",
       "      <td>B02764</td>\n",
       "      <td>B02764</td>\n",
       "      <td>2021-01-01 00:39:12</td>\n",
       "      <td>2021-01-01 00:42:37</td>\n",
       "      <td>2021-01-01 00:42:51</td>\n",
       "      <td>2021-01-01 00:45:50</td>\n",
       "      <td>142</td>\n",
       "      <td>143</td>\n",
       "      <td>0.740</td>\n",
       "      <td>...</td>\n",
       "      <td>0.70</td>\n",
       "      <td>2.75</td>\n",
       "      <td>NaN</td>\n",
       "      <td>0.00</td>\n",
       "      <td>7.41</td>\n",
       "      <td>N</td>\n",
       "      <td>N</td>\n",
       "      <td></td>\n",
       "      <td>N</td>\n",
       "      <td>N</td>\n",
       "    </tr>\n",
       "    <tr>\n",
       "      <th>4</th>\n",
       "      <td>HV0003</td>\n",
       "      <td>B02764</td>\n",
       "      <td>B02764</td>\n",
       "      <td>2021-01-01 00:46:11</td>\n",
       "      <td>2021-01-01 00:47:17</td>\n",
       "      <td>2021-01-01 00:48:14</td>\n",
       "      <td>2021-01-01 01:08:42</td>\n",
       "      <td>143</td>\n",
       "      <td>78</td>\n",
       "      <td>9.200</td>\n",
       "      <td>...</td>\n",
       "      <td>2.41</td>\n",
       "      <td>2.75</td>\n",
       "      <td>NaN</td>\n",
       "      <td>0.00</td>\n",
       "      <td>22.44</td>\n",
       "      <td>N</td>\n",
       "      <td>N</td>\n",
       "      <td></td>\n",
       "      <td>N</td>\n",
       "      <td>N</td>\n",
       "    </tr>\n",
       "    <tr>\n",
       "      <th>...</th>\n",
       "      <td>...</td>\n",
       "      <td>...</td>\n",
       "      <td>...</td>\n",
       "      <td>...</td>\n",
       "      <td>...</td>\n",
       "      <td>...</td>\n",
       "      <td>...</td>\n",
       "      <td>...</td>\n",
       "      <td>...</td>\n",
       "      <td>...</td>\n",
       "      <td>...</td>\n",
       "      <td>...</td>\n",
       "      <td>...</td>\n",
       "      <td>...</td>\n",
       "      <td>...</td>\n",
       "      <td>...</td>\n",
       "      <td>...</td>\n",
       "      <td>...</td>\n",
       "      <td>...</td>\n",
       "      <td>...</td>\n",
       "      <td>...</td>\n",
       "    </tr>\n",
       "    <tr>\n",
       "      <th>995</th>\n",
       "      <td>HV0003</td>\n",
       "      <td>B02871</td>\n",
       "      <td>B02871</td>\n",
       "      <td>2021-01-01 00:30:14</td>\n",
       "      <td>2021-01-01 00:31:49</td>\n",
       "      <td>2021-01-01 00:33:43</td>\n",
       "      <td>2021-01-01 00:47:52</td>\n",
       "      <td>255</td>\n",
       "      <td>61</td>\n",
       "      <td>3.620</td>\n",
       "      <td>...</td>\n",
       "      <td>1.49</td>\n",
       "      <td>0.00</td>\n",
       "      <td>NaN</td>\n",
       "      <td>1.88</td>\n",
       "      <td>12.72</td>\n",
       "      <td>N</td>\n",
       "      <td>N</td>\n",
       "      <td></td>\n",
       "      <td>N</td>\n",
       "      <td>N</td>\n",
       "    </tr>\n",
       "    <tr>\n",
       "      <th>996</th>\n",
       "      <td>HV0005</td>\n",
       "      <td>B02510</td>\n",
       "      <td>NaN</td>\n",
       "      <td>2021-01-01 00:50:45</td>\n",
       "      <td>NaN</td>\n",
       "      <td>2021-01-01 00:53:10</td>\n",
       "      <td>2021-01-01 01:21:09</td>\n",
       "      <td>114</td>\n",
       "      <td>21</td>\n",
       "      <td>13.764</td>\n",
       "      <td>...</td>\n",
       "      <td>3.31</td>\n",
       "      <td>2.75</td>\n",
       "      <td>NaN</td>\n",
       "      <td>0.00</td>\n",
       "      <td>29.34</td>\n",
       "      <td>N</td>\n",
       "      <td>N</td>\n",
       "      <td>N</td>\n",
       "      <td>N</td>\n",
       "      <td>N</td>\n",
       "    </tr>\n",
       "    <tr>\n",
       "      <th>997</th>\n",
       "      <td>HV0003</td>\n",
       "      <td>B02512</td>\n",
       "      <td>B02512</td>\n",
       "      <td>2021-01-01 00:15:04</td>\n",
       "      <td>2021-01-01 00:18:08</td>\n",
       "      <td>2021-01-01 00:18:35</td>\n",
       "      <td>2021-01-01 00:26:53</td>\n",
       "      <td>167</td>\n",
       "      <td>42</td>\n",
       "      <td>2.100</td>\n",
       "      <td>...</td>\n",
       "      <td>1.01</td>\n",
       "      <td>0.00</td>\n",
       "      <td>NaN</td>\n",
       "      <td>0.00</td>\n",
       "      <td>8.63</td>\n",
       "      <td>N</td>\n",
       "      <td>N</td>\n",
       "      <td></td>\n",
       "      <td>N</td>\n",
       "      <td>N</td>\n",
       "    </tr>\n",
       "    <tr>\n",
       "      <th>998</th>\n",
       "      <td>HV0003</td>\n",
       "      <td>B02512</td>\n",
       "      <td>B02512</td>\n",
       "      <td>2021-01-01 00:28:47</td>\n",
       "      <td>2021-01-01 00:33:39</td>\n",
       "      <td>2021-01-01 00:35:39</td>\n",
       "      <td>2021-01-01 00:42:59</td>\n",
       "      <td>116</td>\n",
       "      <td>116</td>\n",
       "      <td>0.430</td>\n",
       "      <td>...</td>\n",
       "      <td>0.96</td>\n",
       "      <td>0.00</td>\n",
       "      <td>NaN</td>\n",
       "      <td>0.00</td>\n",
       "      <td>9.11</td>\n",
       "      <td>N</td>\n",
       "      <td>N</td>\n",
       "      <td></td>\n",
       "      <td>N</td>\n",
       "      <td>N</td>\n",
       "    </tr>\n",
       "    <tr>\n",
       "      <th>999</th>\n",
       "      <td>HV0003</td>\n",
       "      <td>B02512</td>\n",
       "      <td>B02512</td>\n",
       "      <td>2021-01-01 00:39:58</td>\n",
       "      <td>2021-01-01 00:43:35</td>\n",
       "      <td>2021-01-01 00:44:54</td>\n",
       "      <td>2021-01-01 01:15:59</td>\n",
       "      <td>116</td>\n",
       "      <td>132</td>\n",
       "      <td>19.960</td>\n",
       "      <td>...</td>\n",
       "      <td>4.42</td>\n",
       "      <td>0.00</td>\n",
       "      <td>NaN</td>\n",
       "      <td>0.00</td>\n",
       "      <td>39.77</td>\n",
       "      <td>N</td>\n",
       "      <td>N</td>\n",
       "      <td></td>\n",
       "      <td>N</td>\n",
       "      <td>N</td>\n",
       "    </tr>\n",
       "  </tbody>\n",
       "</table>\n",
       "<p>1000 rows × 24 columns</p>\n",
       "</div>"
      ],
      "text/plain": [
       "    hvfhs_license_num dispatching_base_num originating_base_num  \\\n",
       "0              HV0003               B02682               B02682   \n",
       "1              HV0003               B02682               B02682   \n",
       "2              HV0003               B02764               B02764   \n",
       "3              HV0003               B02764               B02764   \n",
       "4              HV0003               B02764               B02764   \n",
       "..                ...                  ...                  ...   \n",
       "995            HV0003               B02871               B02871   \n",
       "996            HV0005               B02510                  NaN   \n",
       "997            HV0003               B02512               B02512   \n",
       "998            HV0003               B02512               B02512   \n",
       "999            HV0003               B02512               B02512   \n",
       "\n",
       "        request_datetime    on_scene_datetime      pickup_datetime  \\\n",
       "0    2021-01-01 00:28:09  2021-01-01 00:31:42  2021-01-01 00:33:44   \n",
       "1    2021-01-01 00:45:56  2021-01-01 00:55:19  2021-01-01 00:55:19   \n",
       "2    2021-01-01 00:21:15  2021-01-01 00:22:41  2021-01-01 00:23:56   \n",
       "3    2021-01-01 00:39:12  2021-01-01 00:42:37  2021-01-01 00:42:51   \n",
       "4    2021-01-01 00:46:11  2021-01-01 00:47:17  2021-01-01 00:48:14   \n",
       "..                   ...                  ...                  ...   \n",
       "995  2021-01-01 00:30:14  2021-01-01 00:31:49  2021-01-01 00:33:43   \n",
       "996  2021-01-01 00:50:45                  NaN  2021-01-01 00:53:10   \n",
       "997  2021-01-01 00:15:04  2021-01-01 00:18:08  2021-01-01 00:18:35   \n",
       "998  2021-01-01 00:28:47  2021-01-01 00:33:39  2021-01-01 00:35:39   \n",
       "999  2021-01-01 00:39:58  2021-01-01 00:43:35  2021-01-01 00:44:54   \n",
       "\n",
       "        dropoff_datetime  PULocationID  DOLocationID  trip_miles  ...  \\\n",
       "0    2021-01-01 00:49:07           230           166       5.260  ...   \n",
       "1    2021-01-01 01:18:21           152           167       3.650  ...   \n",
       "2    2021-01-01 00:38:05           233           142       3.510  ...   \n",
       "3    2021-01-01 00:45:50           142           143       0.740  ...   \n",
       "4    2021-01-01 01:08:42           143            78       9.200  ...   \n",
       "..                   ...           ...           ...         ...  ...   \n",
       "995  2021-01-01 00:47:52           255            61       3.620  ...   \n",
       "996  2021-01-01 01:21:09           114            21      13.764  ...   \n",
       "997  2021-01-01 00:26:53           167            42       2.100  ...   \n",
       "998  2021-01-01 00:42:59           116           116       0.430  ...   \n",
       "999  2021-01-01 01:15:59           116           132      19.960  ...   \n",
       "\n",
       "     sales_tax  congestion_surcharge  airport_fee  tips  driver_pay  \\\n",
       "0         1.98                  2.75          NaN  0.00       14.99   \n",
       "1         1.63                  0.00          NaN  0.00       17.06   \n",
       "2         1.25                  2.75          NaN  0.94       12.98   \n",
       "3         0.70                  2.75          NaN  0.00        7.41   \n",
       "4         2.41                  2.75          NaN  0.00       22.44   \n",
       "..         ...                   ...          ...   ...         ...   \n",
       "995       1.49                  0.00          NaN  1.88       12.72   \n",
       "996       3.31                  2.75          NaN  0.00       29.34   \n",
       "997       1.01                  0.00          NaN  0.00        8.63   \n",
       "998       0.96                  0.00          NaN  0.00        9.11   \n",
       "999       4.42                  0.00          NaN  0.00       39.77   \n",
       "\n",
       "     shared_request_flag  shared_match_flag  access_a_ride_flag  \\\n",
       "0                      N                  N                       \n",
       "1                      N                  N                       \n",
       "2                      N                  N                       \n",
       "3                      N                  N                       \n",
       "4                      N                  N                       \n",
       "..                   ...                ...                 ...   \n",
       "995                    N                  N                       \n",
       "996                    N                  N                   N   \n",
       "997                    N                  N                       \n",
       "998                    N                  N                       \n",
       "999                    N                  N                       \n",
       "\n",
       "     wav_request_flag wav_match_flag  \n",
       "0                   N              N  \n",
       "1                   N              N  \n",
       "2                   N              N  \n",
       "3                   N              N  \n",
       "4                   N              N  \n",
       "..                ...            ...  \n",
       "995                 N              N  \n",
       "996                 N              N  \n",
       "997                 N              N  \n",
       "998                 N              N  \n",
       "999                 N              N  \n",
       "\n",
       "[1000 rows x 24 columns]"
      ]
     },
     "execution_count": 104,
     "metadata": {},
     "output_type": "execute_result"
    }
   ],
   "source": [
    "df_pandas"
   ]
  },
  {
   "cell_type": "code",
   "execution_count": 105,
   "id": "f1066b4f",
   "metadata": {},
   "outputs": [
    {
     "data": {
      "text/plain": [
       "hvfhs_license_num        object\n",
       "dispatching_base_num     object\n",
       "originating_base_num     object\n",
       "request_datetime         object\n",
       "on_scene_datetime        object\n",
       "pickup_datetime          object\n",
       "dropoff_datetime         object\n",
       "PULocationID              int64\n",
       "DOLocationID              int64\n",
       "trip_miles              float64\n",
       "trip_time                 int64\n",
       "base_passenger_fare     float64\n",
       "tolls                   float64\n",
       "bcf                     float64\n",
       "sales_tax               float64\n",
       "congestion_surcharge    float64\n",
       "airport_fee             float64\n",
       "tips                    float64\n",
       "driver_pay              float64\n",
       "shared_request_flag      object\n",
       "shared_match_flag        object\n",
       "access_a_ride_flag       object\n",
       "wav_request_flag         object\n",
       "wav_match_flag           object\n",
       "dtype: object"
      ]
     },
     "execution_count": 105,
     "metadata": {},
     "output_type": "execute_result"
    }
   ],
   "source": [
    "df_pandas.dtypes"
   ]
  },
  {
   "cell_type": "code",
   "execution_count": 106,
   "id": "f8413c9d",
   "metadata": {},
   "outputs": [
    {
     "data": {
      "text/plain": [
       "StructType([StructField('hvfhs_license_num', StringType(), True), StructField('dispatching_base_num', StringType(), True), StructField('originating_base_num', StringType(), True), StructField('request_datetime', StringType(), True), StructField('on_scene_datetime', StringType(), True), StructField('pickup_datetime', StringType(), True), StructField('dropoff_datetime', StringType(), True), StructField('PULocationID', LongType(), True), StructField('DOLocationID', LongType(), True), StructField('trip_miles', DoubleType(), True), StructField('trip_time', LongType(), True), StructField('base_passenger_fare', DoubleType(), True), StructField('tolls', DoubleType(), True), StructField('bcf', DoubleType(), True), StructField('sales_tax', DoubleType(), True), StructField('congestion_surcharge', DoubleType(), True), StructField('airport_fee', DoubleType(), True), StructField('tips', DoubleType(), True), StructField('driver_pay', DoubleType(), True), StructField('shared_request_flag', StringType(), True), StructField('shared_match_flag', StringType(), True), StructField('access_a_ride_flag', StringType(), True), StructField('wav_request_flag', StringType(), True), StructField('wav_match_flag', StringType(), True)])"
      ]
     },
     "execution_count": 106,
     "metadata": {},
     "output_type": "execute_result"
    }
   ],
   "source": [
    "spark.createDataFrame(df_pandas).schema"
   ]
  },
  {
   "cell_type": "markdown",
   "id": "80f252c1",
   "metadata": {},
   "source": [
    "Integer - 4 bytes\n",
    "Long - 8 bytes"
   ]
  },
  {
   "cell_type": "code",
   "execution_count": 107,
   "id": "16937bfd",
   "metadata": {},
   "outputs": [],
   "source": [
    "from pyspark.sql import types"
   ]
  },
  {
   "cell_type": "code",
   "execution_count": 108,
   "id": "fc61a99a",
   "metadata": {},
   "outputs": [],
   "source": [
    "# schema = types.StructType([\n",
    "#                             types.StructField('hvfhs_license_num', types.StringType(), True),\n",
    "#                             types.StructField('dispatching_base_num', types.StringType(), True),\n",
    "#                             types.StructField('pickup_datetime', types.TimestampType(), True),\n",
    "#                             types.StructField('dropoff_datetime', types.TimestampType(), True),\n",
    "#                             types.StructField('PULocationID', types.IntegerType(), True),\n",
    "#                             types.StructField('DOLocationID', types.IntegerType(), True),\n",
    "#                             types.StructField('SR_Flag', types.StringType(), True)\n",
    "# ])\n",
    "\n",
    "\n",
    "schema = types.StructType([ types.StructField('hvfhs_license_num', types.StringType(), True),\n",
    "                            types.StructField('dispatching_base_num', types.StringType(), True),\n",
    "                            types.StructField('originating_base_num', types.StringType(), True),\n",
    "                            types.StructField('request_datetime', types.TimestampType(), True),\n",
    "                            types.StructField('on_scene_datetime', types.TimestampType(), True),\n",
    "                            types.StructField('pickup_datetime', types.TimestampType(), True), \n",
    "                            types.StructField('dropoff_datetime', types.TimestampType(), True),\n",
    "                            types.StructField('PULocationID', types.IntegerType(), True), \n",
    "                            types.StructField('DOLocationID', types.IntegerType(), True), \n",
    "                            types.StructField('trip_miles', types.DoubleType(), True), \n",
    "                            types.StructField('trip_time', types.IntegerType(), True), \n",
    "                            types.StructField('base_passenger_fare', types.DoubleType(), True),\n",
    "                            types.StructField('tolls', types.DoubleType(), True), \n",
    "                            types.StructField('bcf', types.DoubleType(), True), \n",
    "                            types.StructField('sales_tax', types.DoubleType(), True), \n",
    "                            types.StructField('congestion_surcharge', types.DoubleType(), True), \n",
    "                            types.StructField('airport_fee', types.DoubleType(), True), \n",
    "                            types.StructField('tips', types.DoubleType(), True), \n",
    "                            types.StructField('driver_pay', types.DoubleType(), True), \n",
    "                            types.StructField('shared_request_flag', types.StringType(), True),\n",
    "                            types.StructField('shared_match_flag', types.StringType(), True), \n",
    "                            types.StructField('access_a_ride_flag', types.StringType(), True), \n",
    "                            types.StructField('wav_request_flag', types.StringType(), True), \n",
    "                            types.StructField('wav_match_flag', types.StringType(), True)])\n"
   ]
  },
  {
   "cell_type": "code",
   "execution_count": 109,
   "id": "f94052ae",
   "metadata": {},
   "outputs": [],
   "source": [
    "df = spark.read \\\n",
    "    .option(\"header\", \"true\") \\\n",
    "    .schema(schema) \\\n",
    "    .csv('fhvhv_tripdata_2021-01.csv')"
   ]
  },
  {
   "cell_type": "code",
   "execution_count": 110,
   "id": "00354e4c",
   "metadata": {},
   "outputs": [
    {
     "name": "stdout",
     "output_type": "stream",
     "text": [
      "+-----------------+--------------------+--------------------+-------------------+-------------------+-------------------+-------------------+------------+------------+----------+---------+-------------------+-----+----+---------+--------------------+-----------+----+----------+-------------------+-----------------+------------------+----------------+--------------+\n",
      "|hvfhs_license_num|dispatching_base_num|originating_base_num|   request_datetime|  on_scene_datetime|    pickup_datetime|   dropoff_datetime|PULocationID|DOLocationID|trip_miles|trip_time|base_passenger_fare|tolls| bcf|sales_tax|congestion_surcharge|airport_fee|tips|driver_pay|shared_request_flag|shared_match_flag|access_a_ride_flag|wav_request_flag|wav_match_flag|\n",
      "+-----------------+--------------------+--------------------+-------------------+-------------------+-------------------+-------------------+------------+------------+----------+---------+-------------------+-----+----+---------+--------------------+-----------+----+----------+-------------------+-----------------+------------------+----------------+--------------+\n",
      "|           HV0003|              B02682|              B02682|2021-01-01 00:28:09|2021-01-01 00:31:42|2021-01-01 00:33:44|2021-01-01 00:49:07|         230|         166|      5.26|      923|              22.28|  0.0|0.67|     1.98|                2.75|       NULL| 0.0|     14.99|                  N|                N|                  |               N|             N|\n",
      "|           HV0003|              B02682|              B02682|2021-01-01 00:45:56|2021-01-01 00:55:19|2021-01-01 00:55:19|2021-01-01 01:18:21|         152|         167|      3.65|     1382|              18.36|  0.0|0.55|     1.63|                 0.0|       NULL| 0.0|     17.06|                  N|                N|                  |               N|             N|\n",
      "|           HV0003|              B02764|              B02764|2021-01-01 00:21:15|2021-01-01 00:22:41|2021-01-01 00:23:56|2021-01-01 00:38:05|         233|         142|      3.51|      849|              14.05|  0.0|0.48|     1.25|                2.75|       NULL|0.94|     12.98|                  N|                N|                  |               N|             N|\n",
      "|           HV0003|              B02764|              B02764|2021-01-01 00:39:12|2021-01-01 00:42:37|2021-01-01 00:42:51|2021-01-01 00:45:50|         142|         143|      0.74|      179|               7.91|  0.0|0.24|      0.7|                2.75|       NULL| 0.0|      7.41|                  N|                N|                  |               N|             N|\n",
      "|           HV0003|              B02764|              B02764|2021-01-01 00:46:11|2021-01-01 00:47:17|2021-01-01 00:48:14|2021-01-01 01:08:42|         143|          78|       9.2|     1228|              27.11|  0.0|0.81|     2.41|                2.75|       NULL| 0.0|     22.44|                  N|                N|                  |               N|             N|\n",
      "|           HV0005|              B02510|                NULL|2021-01-01 00:04:00|               NULL|2021-01-01 00:06:59|2021-01-01 00:43:01|          88|          42|     9.725|     2162|              28.11|  0.0|0.84|     2.49|                2.75|       NULL| 0.0|      28.9|                  N|                N|                 N|               N|             N|\n",
      "|           HV0005|              B02510|                NULL|2021-01-01 00:40:06|               NULL|2021-01-01 00:50:00|2021-01-01 01:04:57|          42|         151|     2.469|      897|              25.03|  0.0|0.75|     2.22|                 0.0|       NULL| 0.0|     15.01|                  N|                N|                 N|               N|             N|\n",
      "|           HV0003|              B02764|              B02764|2021-01-01 00:10:36|2021-01-01 00:12:28|2021-01-01 00:14:30|2021-01-01 00:50:27|          71|         226|     13.53|     2157|              29.67|  0.0|1.04|     3.08|                 0.0|       NULL| 0.0|      34.2|                  N|                N|                  |               N|             N|\n",
      "|           HV0003|              B02875|              B02875|2021-01-01 00:21:17|2021-01-01 00:22:25|2021-01-01 00:22:54|2021-01-01 00:30:20|         112|         255|       1.6|      446|               6.89|  0.0|0.21|     0.61|                 0.0|       NULL| 0.0|      6.26|                  N|                N|                  |               N|             N|\n",
      "|           HV0003|              B02875|              B02875|2021-01-01 00:36:57|2021-01-01 00:38:09|2021-01-01 00:40:12|2021-01-01 00:53:31|         255|         232|       3.2|      800|              11.51|  0.0|0.53|     1.03|                2.75|       NULL|2.82|     10.99|                  N|                N|                  |               N|             N|\n",
      "|           HV0003|              B02875|              B02875|2021-01-01 00:53:31|2021-01-01 00:56:21|2021-01-01 00:56:45|2021-01-01 01:17:42|         232|         198|      5.74|     1257|              17.18|  0.0|0.52|     1.52|                2.75|       NULL| 0.0|     17.61|                  N|                N|                  |               N|             N|\n",
      "|           HV0003|              B02835|              B02835|2021-01-01 00:22:58|2021-01-01 00:27:01|2021-01-01 00:29:04|2021-01-01 00:36:27|         113|          48|       1.8|      443|               8.18|  0.0|0.25|     0.73|                2.75|       NULL| 0.0|      6.12|                  N|                N|                  |               N|             N|\n",
      "|           HV0003|              B02835|              B02835|2021-01-01 00:46:44|2021-01-01 00:47:49|2021-01-01 00:48:56|2021-01-01 00:59:12|         239|          75|       2.9|      616|               13.1|  0.0|0.45|     1.17|                2.75|       NULL|0.94|      8.77|                  N|                N|                  |               N|             N|\n",
      "|           HV0004|              B02800|                NULL|2021-01-01 00:12:50|               NULL|2021-01-01 00:15:24|2021-01-01 00:38:31|         181|         237|      9.66|     1387|              32.95|  0.0| 0.0|     2.34|                2.75|       NULL| 0.0|      21.1|                  N|                N|                 N|               N|             N|\n",
      "|           HV0004|              B02800|                NULL|2021-01-01 00:35:32|               NULL|2021-01-01 00:45:00|2021-01-01 01:06:45|         236|          68|      4.38|     1305|              22.91|  0.0| 0.0|     1.63|                2.75|       NULL|3.43|     15.82|                  N|                N|                 N|               N|             N|\n",
      "|           HV0003|              B02682|              B02682|2021-01-01 00:10:22|2021-01-01 00:11:03|2021-01-01 00:11:53|2021-01-01 00:18:06|         256|         148|      2.03|      373|               7.84|  0.0|0.42|      0.7|                2.75|       NULL|2.82|      6.93|                  N|                N|                  |               N|             N|\n",
      "|           HV0003|              B02682|              B02682|2021-01-01 00:25:00|2021-01-01 00:26:31|2021-01-01 00:28:31|2021-01-01 00:41:40|          79|          80|      3.08|      789|               13.2|  0.0| 0.4|     1.17|                2.75|       NULL| 0.0|     11.54|                  N|                N|                  |               N|             N|\n",
      "|           HV0003|              B02682|              B02682|2021-01-01 00:44:56|2021-01-01 00:49:55|2021-01-01 00:50:49|2021-01-01 00:55:59|          17|         217|      1.17|      310|               7.91|  0.0|0.24|      0.7|                 0.0|       NULL| 0.0|      6.94|                  N|                N|                  |               N|             N|\n",
      "|           HV0005|              B02510|                NULL|2021-01-01 00:05:04|               NULL|2021-01-01 00:08:40|2021-01-01 00:39:39|          62|          29|    10.852|     1859|              31.18|  0.0|0.94|     2.77|                 0.0|       NULL| 0.0|     27.61|                  N|                N|                 N|               N|             N|\n",
      "|           HV0003|              B02836|              B02836|2021-01-01 00:40:44|2021-01-01 00:53:34|2021-01-01 00:53:48|2021-01-01 01:11:40|          22|          22|      3.52|     1072|              28.67|  0.0|0.86|     2.54|                 0.0|       NULL| 0.0|     17.64|                  N|                N|                  |               N|             N|\n",
      "+-----------------+--------------------+--------------------+-------------------+-------------------+-------------------+-------------------+------------+------------+----------+---------+-------------------+-----+----+---------+--------------------+-----------+----+----------+-------------------+-----------------+------------------+----------------+--------------+\n",
      "only showing top 20 rows\n",
      "\n"
     ]
    }
   ],
   "source": [
    "df.show()"
   ]
  },
  {
   "cell_type": "code",
   "execution_count": 111,
   "id": "c270d9d6",
   "metadata": {},
   "outputs": [],
   "source": [
    "df = df.repartition(24)"
   ]
  },
  {
   "cell_type": "code",
   "execution_count": 112,
   "id": "6450d742",
   "metadata": {},
   "outputs": [
    {
     "name": "stdout",
     "output_type": "stream",
     "text": [
      "root\n",
      " |-- hvfhs_license_num: string (nullable = true)\n",
      " |-- dispatching_base_num: string (nullable = true)\n",
      " |-- originating_base_num: string (nullable = true)\n",
      " |-- request_datetime: timestamp (nullable = true)\n",
      " |-- on_scene_datetime: timestamp (nullable = true)\n",
      " |-- pickup_datetime: timestamp (nullable = true)\n",
      " |-- dropoff_datetime: timestamp (nullable = true)\n",
      " |-- PULocationID: integer (nullable = true)\n",
      " |-- DOLocationID: integer (nullable = true)\n",
      " |-- trip_miles: double (nullable = true)\n",
      " |-- trip_time: integer (nullable = true)\n",
      " |-- base_passenger_fare: double (nullable = true)\n",
      " |-- tolls: double (nullable = true)\n",
      " |-- bcf: double (nullable = true)\n",
      " |-- sales_tax: double (nullable = true)\n",
      " |-- congestion_surcharge: double (nullable = true)\n",
      " |-- airport_fee: double (nullable = true)\n",
      " |-- tips: double (nullable = true)\n",
      " |-- driver_pay: double (nullable = true)\n",
      " |-- shared_request_flag: string (nullable = true)\n",
      " |-- shared_match_flag: string (nullable = true)\n",
      " |-- access_a_ride_flag: string (nullable = true)\n",
      " |-- wav_request_flag: string (nullable = true)\n",
      " |-- wav_match_flag: string (nullable = true)\n",
      "\n"
     ]
    }
   ],
   "source": [
    "df.printSchema()"
   ]
  },
  {
   "cell_type": "code",
   "execution_count": 113,
   "id": "7796c2b2",
   "metadata": {},
   "outputs": [
    {
     "name": "stderr",
     "output_type": "stream",
     "text": [
      "24/02/25 20:28:50 WARN MemoryManager: Total allocation exceeds 95.00% (1,020,054,720 bytes) of heap memory\n",
      "Scaling row group sizes to 95.00% for 8 writers\n",
      "24/02/25 20:28:50 WARN MemoryManager: Total allocation exceeds 95.00% (1,020,054,720 bytes) of heap memory\n",
      "Scaling row group sizes to 84.44% for 9 writers\n",
      "24/02/25 20:28:50 WARN MemoryManager: Total allocation exceeds 95.00% (1,020,054,720 bytes) of heap memory\n",
      "Scaling row group sizes to 76.00% for 10 writers\n",
      "24/02/25 20:29:00 WARN MemoryManager: Total allocation exceeds 95.00% (1,020,054,720 bytes) of heap memory\n",
      "Scaling row group sizes to 84.44% for 9 writers\n",
      "24/02/25 20:29:00 WARN MemoryManager: Total allocation exceeds 95.00% (1,020,054,720 bytes) of heap memory\n",
      "Scaling row group sizes to 95.00% for 8 writers\n",
      "24/02/25 20:29:02 WARN MemoryManager: Total allocation exceeds 95.00% (1,020,054,720 bytes) of heap memory\n",
      "Scaling row group sizes to 95.00% for 8 writers\n",
      "24/02/25 20:29:02 WARN MemoryManager: Total allocation exceeds 95.00% (1,020,054,720 bytes) of heap memory\n",
      "Scaling row group sizes to 84.44% for 9 writers\n",
      "24/02/25 20:29:02 WARN MemoryManager: Total allocation exceeds 95.00% (1,020,054,720 bytes) of heap memory\n",
      "Scaling row group sizes to 76.00% for 10 writers\n",
      "24/02/25 20:29:07 WARN MemoryManager: Total allocation exceeds 95.00% (1,020,054,720 bytes) of heap memory\n",
      "Scaling row group sizes to 84.44% for 9 writers\n",
      "24/02/25 20:29:07 WARN MemoryManager: Total allocation exceeds 95.00% (1,020,054,720 bytes) of heap memory\n",
      "Scaling row group sizes to 95.00% for 8 writers\n",
      "                                                                                \r"
     ]
    }
   ],
   "source": [
    "df.write.parquet('fhvhv/2021/01/',mode='overwrite')"
   ]
  },
  {
   "cell_type": "code",
   "execution_count": 127,
   "id": "c3cab876",
   "metadata": {},
   "outputs": [],
   "source": [
    "df = spark.read.parquet('fhvhv/2021/01/',enforceSchema=True)"
   ]
  },
  {
   "cell_type": "code",
   "execution_count": null,
   "id": "27b5c9e2",
   "metadata": {},
   "outputs": [],
   "source": []
  },
  {
   "cell_type": "code",
   "execution_count": 128,
   "id": "203b5627",
   "metadata": {},
   "outputs": [
    {
     "name": "stdout",
     "output_type": "stream",
     "text": [
      "root\n",
      " |-- hvfhs_license_num: string (nullable = true)\n",
      " |-- dispatching_base_num: string (nullable = true)\n",
      " |-- originating_base_num: string (nullable = true)\n",
      " |-- request_datetime: timestamp (nullable = true)\n",
      " |-- on_scene_datetime: timestamp (nullable = true)\n",
      " |-- pickup_datetime: timestamp (nullable = true)\n",
      " |-- dropoff_datetime: timestamp (nullable = true)\n",
      " |-- PULocationID: integer (nullable = true)\n",
      " |-- DOLocationID: integer (nullable = true)\n",
      " |-- trip_miles: double (nullable = true)\n",
      " |-- trip_time: integer (nullable = true)\n",
      " |-- base_passenger_fare: double (nullable = true)\n",
      " |-- tolls: double (nullable = true)\n",
      " |-- bcf: double (nullable = true)\n",
      " |-- sales_tax: double (nullable = true)\n",
      " |-- congestion_surcharge: double (nullable = true)\n",
      " |-- airport_fee: double (nullable = true)\n",
      " |-- tips: double (nullable = true)\n",
      " |-- driver_pay: double (nullable = true)\n",
      " |-- shared_request_flag: string (nullable = true)\n",
      " |-- shared_match_flag: string (nullable = true)\n",
      " |-- access_a_ride_flag: string (nullable = true)\n",
      " |-- wav_request_flag: string (nullable = true)\n",
      " |-- wav_match_flag: string (nullable = true)\n",
      "\n"
     ]
    }
   ],
   "source": [
    "df.printSchema()"
   ]
  },
  {
   "cell_type": "markdown",
   "id": "64172a47",
   "metadata": {},
   "source": [
    "SELECT * FROM df WHERE hvfhs_license_num =  HV0003"
   ]
  },
  {
   "cell_type": "code",
   "execution_count": 116,
   "id": "d24840a0",
   "metadata": {},
   "outputs": [],
   "source": [
    "from pyspark.sql import functions as F"
   ]
  },
  {
   "cell_type": "code",
   "execution_count": null,
   "id": "b01de917",
   "metadata": {},
   "outputs": [],
   "source": [
    "F."
   ]
  },
  {
   "cell_type": "code",
   "execution_count": 117,
   "id": "3ab1ca44",
   "metadata": {
    "scrolled": true
   },
   "outputs": [
    {
     "name": "stdout",
     "output_type": "stream",
     "text": [
      "+-----------------+--------------------+--------------------+-------------------+-------------------+-------------------+-------------------+------------+------------+----------+---------+-------------------+-----+----+---------+--------------------+-----------+----+----------+-------------------+-----------------+------------------+----------------+--------------+\n",
      "|hvfhs_license_num|dispatching_base_num|originating_base_num|   request_datetime|  on_scene_datetime|    pickup_datetime|   dropoff_datetime|PULocationID|DOLocationID|trip_miles|trip_time|base_passenger_fare|tolls| bcf|sales_tax|congestion_surcharge|airport_fee|tips|driver_pay|shared_request_flag|shared_match_flag|access_a_ride_flag|wav_request_flag|wav_match_flag|\n",
      "+-----------------+--------------------+--------------------+-------------------+-------------------+-------------------+-------------------+------------+------------+----------+---------+-------------------+-----+----+---------+--------------------+-----------+----+----------+-------------------+-----------------+------------------+----------------+--------------+\n",
      "|           HV0003|              B02765|              B02765|2021-01-01 06:35:04|2021-01-01 06:41:43|2021-01-01 06:42:47|2021-01-01 06:54:48|         241|          18|      2.18|      721|              14.55|  0.0|0.44|     1.29|                 0.0|       NULL| 0.0|     11.22|                  N|                N|                  |               N|             N|\n",
      "|           HV0003|              B02764|              B02764|2021-01-02 18:09:58|2021-01-02 18:12:21|2021-01-02 18:12:54|2021-01-02 18:17:48|          17|         217|      1.05|      294|               7.12|  0.0|0.21|     0.63|                 0.0|       NULL| 0.0|       5.4|                  N|                N|                  |               N|             N|\n",
      "|           HV0003|              B02836|              B02836|2021-01-01 17:38:29|2021-01-01 17:45:10|2021-01-01 17:45:10|2021-01-01 17:51:08|         223|         179|      0.98|      358|                8.7|  0.0|0.26|     0.77|                 0.0|       NULL| 0.0|      5.81|                  N|                N|                  |               N|             N|\n",
      "|           HV0003|              B02764|              B02764|2021-01-01 23:12:16|2021-01-01 23:16:33|2021-01-01 23:17:37|2021-01-01 23:31:37|         127|         247|      5.04|      840|              19.97|  0.0| 0.6|     1.77|                 0.0|       NULL| 0.0|     13.24|                  N|                N|                  |               N|             N|\n",
      "|           HV0003|              B02871|              B02871|2021-01-03 12:40:40|2021-01-03 12:40:58|2021-01-03 12:41:59|2021-01-03 12:49:56|         189|         181|       2.0|      477|               9.31|  0.0|0.28|     0.83|                 0.0|       NULL| 0.0|      7.56|                  N|                N|                  |               N|             N|\n",
      "|           HV0005|              B02510|                NULL|2021-01-01 03:40:45|               NULL|2021-01-01 03:43:55|2021-01-01 03:56:49|          74|         213|     5.481|      774|              17.53| 0.33|0.54|     1.59|                 0.0|       NULL| 5.0|     12.56|                  N|                N|                 N|               N|             N|\n",
      "|           HV0003|              B02872|              B02872|2021-01-01 22:49:19|2021-01-01 22:53:49|2021-01-01 22:55:50|2021-01-01 23:05:06|          78|          94|      1.29|      556|               8.59|  0.0|0.26|     0.76|                 0.0|       NULL| 0.0|      6.99|                  N|                N|                  |               N|             N|\n",
      "|           HV0005|              B02510|                NULL|2021-01-01 12:40:21|               NULL|2021-01-01 12:44:04|2021-01-01 12:52:21|         244|         169|     2.287|      497|              10.84|  0.0|0.29|     0.86|                 0.0|       NULL| 0.0|       6.7|                  N|                N|                 N|               N|             N|\n",
      "|           HV0003|              B02878|              B02878|2021-01-01 22:41:16|2021-01-01 22:43:21|2021-01-01 22:45:22|2021-01-01 22:53:23|          39|         222|      1.82|      481|               9.48|  0.0|0.28|     0.84|                 0.0|       NULL| 0.0|      6.04|                  N|                N|                  |               N|             N|\n",
      "|           HV0003|              B02883|              B02883|2021-01-03 03:15:55|2021-01-03 03:20:00|2021-01-03 03:22:00|2021-01-03 03:37:20|         254|         174|      1.75|      920|              11.58|  0.0|0.35|     1.03|                 0.0|       NULL| 0.0|      9.92|                  N|                N|                  |               N|             N|\n",
      "|           HV0005|              B02510|                NULL|2021-01-01 23:43:30|               NULL|2021-01-01 23:46:58|2021-01-02 00:05:24|         142|           4|     5.298|     1106|              18.99|  0.0|0.57|     1.68|                2.75|       NULL| 0.0|     15.14|                  N|                N|                 N|               N|             N|\n",
      "|           HV0005|              B02510|                NULL|2021-01-02 23:57:01|               NULL|2021-01-02 23:59:07|2021-01-03 00:15:28|         186|          49|     5.178|      981|              24.88| 3.04|0.84|     2.48|                2.75|       NULL| 8.5|     13.96|                  N|                N|                 N|               N|             N|\n",
      "|           HV0003|              B02617|              B02617|2021-01-02 08:20:20|2021-01-02 08:22:34|2021-01-02 08:24:30|2021-01-02 08:35:23|         176|         251|      4.13|      653|              15.36|  0.0|0.46|     1.36|                 0.0|       NULL| 0.0|     10.02|                  N|                N|                  |               N|             N|\n",
      "|           HV0003|              B02682|              B02682|2021-01-01 07:31:53|2021-01-01 07:35:37|2021-01-01 07:35:56|2021-01-01 07:42:16|         226|         256|      2.84|      380|              10.76|  0.0|0.32|     0.95|                 0.0|       NULL| 0.0|      6.32|                  N|                N|                  |               N|             N|\n",
      "|           HV0003|              B02882|              B02882|2021-01-01 18:34:52|2021-01-01 18:41:52|2021-01-01 18:42:05|2021-01-01 18:48:02|         178|          21|      0.93|      357|               7.91|  0.0|0.24|      0.7|                 0.0|       NULL| 0.0|       5.4|                  N|                N|                  |               N|             N|\n",
      "|           HV0003|              B02764|              B02764|2021-01-02 18:33:46|2021-01-02 18:36:14|2021-01-02 18:37:07|2021-01-02 18:54:00|         129|          95|      3.92|     1013|              19.56|  0.0|0.59|     1.74|                 0.0|       NULL| 0.0|     12.81|                  N|                N|                  |               N|             N|\n",
      "|           HV0003|              B02889|              B02889|2021-01-01 12:36:56|2021-01-01 12:45:05|2021-01-01 12:45:44|2021-01-01 13:10:13|         250|         237|     12.37|     1469|              35.69|  0.0|1.25|     3.71|                2.75|       NULL| 0.0|     25.93|                  N|                N|                  |               N|             N|\n",
      "|           HV0003|              B02872|              B02872|2021-01-02 10:23:48|2021-01-02 10:27:17|2021-01-02 10:27:31|2021-01-02 10:29:35|         242|         242|      0.45|      124|               7.91|  0.0|0.24|      0.7|                 0.0|       NULL| 2.0|     11.87|                  N|                N|                  |               N|             Y|\n",
      "|           HV0003|              B02872|              B02872|2021-01-02 10:06:32|2021-01-02 10:09:21|2021-01-02 10:10:29|2021-01-02 10:20:27|          92|         173|      2.57|      598|              12.28|  0.0|0.37|     1.09|                 0.0|       NULL| 0.0|      7.84|                  N|                N|                  |               N|             N|\n",
      "|           HV0003|              B02764|              B02764|2021-01-02 10:17:28|2021-01-02 10:19:39|2021-01-02 10:20:16|2021-01-02 10:30:19|          42|         236|      2.62|      603|              15.17|  0.0|0.46|     1.35|                2.75|       NULL| 0.0|     13.92|                  N|                N|                  |               N|             Y|\n",
      "+-----------------+--------------------+--------------------+-------------------+-------------------+-------------------+-------------------+------------+------------+----------+---------+-------------------+-----+----+---------+--------------------+-----------+----+----------+-------------------+-----------------+------------------+----------------+--------------+\n",
      "only showing top 20 rows\n",
      "\n"
     ]
    }
   ],
   "source": [
    "df.show()"
   ]
  },
  {
   "cell_type": "code",
   "execution_count": 63,
   "id": "6d98c2ce",
   "metadata": {},
   "outputs": [],
   "source": [
    "def crazy_stuff(base_num):\n",
    "    num = int(base_num[1:])\n",
    "    if num % 7 == 0:\n",
    "        return f's/{num:03x}'\n",
    "    elif num % 3 == 0:\n",
    "        return f'a/{num:03x}'\n",
    "    else:\n",
    "        return f'e/{num:03x}'"
   ]
  },
  {
   "cell_type": "code",
   "execution_count": 65,
   "id": "f3175419",
   "metadata": {},
   "outputs": [
    {
     "data": {
      "text/plain": [
       "'s/b44'"
      ]
     },
     "execution_count": 65,
     "metadata": {},
     "output_type": "execute_result"
    }
   ],
   "source": [
    "crazy_stuff('B02884')"
   ]
  },
  {
   "cell_type": "code",
   "execution_count": 66,
   "id": "9bb5d503",
   "metadata": {},
   "outputs": [],
   "source": [
    "crazy_stuff_udf = F.udf(crazy_stuff, returnType=types.StringType())"
   ]
  },
  {
   "cell_type": "code",
   "execution_count": 67,
   "id": "b38f0465",
   "metadata": {
    "scrolled": true
   },
   "outputs": [
    {
     "name": "stdout",
     "output_type": "stream",
     "text": [
      "+-------+-----------+------------+------------+------------+\n",
      "|base_id|pickup_date|dropoff_date|PULocationID|DOLocationID|\n",
      "+-------+-----------+------------+------------+------------+\n",
      "|  e/9ce| 2021-01-07|  2021-01-07|         142|         230|\n",
      "|  e/9ce| 2021-01-01|  2021-01-01|         133|          91|\n",
      "|  e/acc| 2021-01-01|  2021-01-01|         147|         159|\n",
      "|  e/b35| 2021-01-06|  2021-01-06|          79|         164|\n",
      "|  s/b44| 2021-01-04|  2021-01-04|         174|          18|\n",
      "|  e/b3b| 2021-01-04|  2021-01-04|         201|         180|\n",
      "|  e/9ce| 2021-01-04|  2021-01-04|         230|         142|\n",
      "|  e/b38| 2021-01-03|  2021-01-03|         132|          72|\n",
      "|  s/af0| 2021-01-01|  2021-01-01|         188|          61|\n",
      "|  e/9ce| 2021-01-04|  2021-01-04|          97|         189|\n",
      "|  e/acc| 2021-01-01|  2021-01-01|         174|         235|\n",
      "|  a/b37| 2021-01-05|  2021-01-05|          35|          76|\n",
      "|  e/9ce| 2021-01-06|  2021-01-06|          35|          39|\n",
      "|  e/b42| 2021-01-04|  2021-01-04|         231|          13|\n",
      "|  e/a39| 2021-01-02|  2021-01-02|          87|         127|\n",
      "|  e/9ce| 2021-01-02|  2021-01-02|          17|          89|\n",
      "|  e/b35| 2021-01-02|  2021-01-02|          11|          14|\n",
      "|  e/9ce| 2021-01-01|  2021-01-01|          21|          26|\n",
      "|  e/b35| 2021-01-04|  2021-01-04|          83|         260|\n",
      "|  e/9ce| 2021-01-01|  2021-01-01|         189|          52|\n",
      "+-------+-----------+------------+------------+------------+\n",
      "only showing top 20 rows\n",
      "\n"
     ]
    }
   ],
   "source": [
    "df \\\n",
    "    .withColumn('pickup_date', F.to_date(df.pickup_datetime)) \\\n",
    "    .withColumn('dropoff_date', F.to_date(df.dropoff_datetime)) \\\n",
    "    .withColumn('base_id', crazy_stuff_udf(df.dispatching_base_num)) \\\n",
    "    .select('base_id', 'pickup_date', 'dropoff_date', 'PULocationID', 'DOLocationID') \\\n",
    "    .show()"
   ]
  },
  {
   "cell_type": "code",
   "execution_count": 123,
   "id": "00921644",
   "metadata": {},
   "outputs": [
    {
     "name": "stdout",
     "output_type": "stream",
     "text": [
      "+-------------------+-------------------+------------+------------+\n",
      "|    pickup_datetime|   dropoff_datetime|PULocationID|DOLocationID|\n",
      "+-------------------+-------------------+------------+------------+\n",
      "|2021-01-01 06:42:47|2021-01-01 06:54:48|         241|          18|\n",
      "|2021-01-02 18:12:54|2021-01-02 18:17:48|          17|         217|\n",
      "|2021-01-01 17:45:10|2021-01-01 17:51:08|         223|         179|\n",
      "|2021-01-01 23:17:37|2021-01-01 23:31:37|         127|         247|\n",
      "|2021-01-03 12:41:59|2021-01-03 12:49:56|         189|         181|\n",
      "|2021-01-01 22:55:50|2021-01-01 23:05:06|          78|          94|\n",
      "|2021-01-01 22:45:22|2021-01-01 22:53:23|          39|         222|\n",
      "|2021-01-03 03:22:00|2021-01-03 03:37:20|         254|         174|\n",
      "|2021-01-02 08:24:30|2021-01-02 08:35:23|         176|         251|\n",
      "|2021-01-01 07:35:56|2021-01-01 07:42:16|         226|         256|\n",
      "|2021-01-01 18:42:05|2021-01-01 18:48:02|         178|          21|\n",
      "|2021-01-02 18:37:07|2021-01-02 18:54:00|         129|          95|\n",
      "|2021-01-01 12:45:44|2021-01-01 13:10:13|         250|         237|\n",
      "|2021-01-02 10:27:31|2021-01-02 10:29:35|         242|         242|\n",
      "|2021-01-02 10:10:29|2021-01-02 10:20:27|          92|         173|\n",
      "|2021-01-02 10:20:16|2021-01-02 10:30:19|          42|         236|\n",
      "|2021-01-01 08:33:59|2021-01-01 08:40:57|         196|          82|\n",
      "|2021-01-01 01:16:29|2021-01-01 01:19:56|         257|          89|\n",
      "|2021-01-01 18:07:43|2021-01-01 18:16:17|         142|         141|\n",
      "|2021-01-02 15:43:38|2021-01-02 16:05:00|         137|         255|\n",
      "+-------------------+-------------------+------------+------------+\n",
      "only showing top 20 rows\n",
      "\n"
     ]
    }
   ],
   "source": [
    "df.select('pickup_datetime', 'dropoff_datetime', 'PULocationID', 'DOLocationID') \\\n",
    "  .filter(df.hvfhs_license_num == 'HV0003')\\\n",
    "  .show()\n"
   ]
  },
  {
   "cell_type": "code",
   "execution_count": 124,
   "id": "8c16ad96",
   "metadata": {},
   "outputs": [
    {
     "data": {
      "text/plain": [
       "[Row(pickup_datetime=datetime.datetime(2021, 1, 1, 6, 42, 47), dropoff_datetime=datetime.datetime(2021, 1, 1, 6, 54, 48), PULocationID=241, DOLocationID=18),\n",
       " Row(pickup_datetime=datetime.datetime(2021, 1, 2, 18, 12, 54), dropoff_datetime=datetime.datetime(2021, 1, 2, 18, 17, 48), PULocationID=17, DOLocationID=217),\n",
       " Row(pickup_datetime=datetime.datetime(2021, 1, 1, 17, 45, 10), dropoff_datetime=datetime.datetime(2021, 1, 1, 17, 51, 8), PULocationID=223, DOLocationID=179),\n",
       " Row(pickup_datetime=datetime.datetime(2021, 1, 1, 23, 17, 37), dropoff_datetime=datetime.datetime(2021, 1, 1, 23, 31, 37), PULocationID=127, DOLocationID=247),\n",
       " Row(pickup_datetime=datetime.datetime(2021, 1, 3, 12, 41, 59), dropoff_datetime=datetime.datetime(2021, 1, 3, 12, 49, 56), PULocationID=189, DOLocationID=181)]"
      ]
     },
     "execution_count": 124,
     "metadata": {},
     "output_type": "execute_result"
    }
   ],
   "source": [
    "df.select('pickup_datetime', 'dropoff_datetime', 'PULocationID', 'DOLocationID') \\\n",
    "  .where(df.hvfhs_license_num == 'HV0003')\\\n",
    "  .take(5)"
   ]
  },
  {
   "cell_type": "code",
   "execution_count": 120,
   "id": "0866f9c0",
   "metadata": {},
   "outputs": [
    {
     "name": "stdout",
     "output_type": "stream",
     "text": [
      "hvfhs_license_num,dispatching_base_num,originating_base_num,request_datetime,on_scene_datetime,pickup_datetime,dropoff_datetime,PULocationID,DOLocationID,trip_miles,trip_time,base_passenger_fare,tolls,bcf,sales_tax,congestion_surcharge,airport_fee,tips,driver_pay,shared_request_flag,shared_match_flag,access_a_ride_flag,wav_request_flag,wav_match_flag\n",
      "HV0003,B02682,B02682,2021-01-01 00:28:09,2021-01-01 00:31:42,2021-01-01 00:33:44,2021-01-01 00:49:07,230,166,5.26,923,22.28,0.0,0.67,1.98,2.75,,0.0,14.99,N,N, ,N,N\n",
      "HV0003,B02682,B02682,2021-01-01 00:45:56,2021-01-01 00:55:19,2021-01-01 00:55:19,2021-01-01 01:18:21,152,167,3.65,1382,18.36,0.0,0.55,1.63,0.0,,0.0,17.06,N,N, ,N,N\n",
      "HV0003,B02764,B02764,2021-01-01 00:21:15,2021-01-01 00:22:41,2021-01-01 00:23:56,2021-01-01 00:38:05,233,142,3.51,849,14.05,0.0,0.48,1.25,2.75,,0.94,12.98,N,N, ,N,N\n",
      "HV0003,B02764,B02764,2021-01-01 00:39:12,2021-01-01 00:42:37,2021-01-01 00:42:51,2021-01-01 00:45:50,142,143,0.74,179,7.91,0.0,0.24,0.7,2.75,,0.0,7.41,N,N, ,N,N\n",
      "HV0003,B02764,B02764,2021-01-01 00:46:11,2021-01-01 00:47:17,2021-01-01 00:48:14,2021-01-01 01:08:42,143,78,9.2,1228,27.11,0.0,0.81,2.41,2.75,,0.0,22.44,N,N, ,N,N\n",
      "HV0005,B02510,,2021-01-01 00:04:00,,2021-01-01 00:06:59,2021-01-01 00:43:01,88,42,9.725,2162,28.11,0.0,0.84,2.49,2.75,,0.0,28.9,N,N,N,N,N\n",
      "HV0005,B02510,,2021-01-01 00:40:06,,2021-01-01 00:50:00,2021-01-01 01:04:57,42,151,2.469,897,25.03,0.0,0.75,2.22,0.0,,0.0,15.01,N,N,N,N,N\n",
      "HV0003,B02764,B02764,2021-01-01 00:10:36,2021-01-01 00:12:28,2021-01-01 00:14:30,2021-01-01 00:50:27,71,226,13.53,2157,29.67,0.0,1.04,3.08,0.0,,0.0,34.2,N,N, ,N,N\n",
      "HV0003,B02875,B02875,2021-01-01 00:21:17,2021-01-01 00:22:25,2021-01-01 00:22:54,2021-01-01 00:30:20,112,255,1.6,446,6.89,0.0,0.21,0.61,0.0,,0.0,6.26,N,N, ,N,N\n"
     ]
    }
   ],
   "source": [
    "!head -n 10 head.csv"
   ]
  },
  {
   "cell_type": "code",
   "execution_count": null,
   "id": "aa1b0e18",
   "metadata": {},
   "outputs": [],
   "source": []
  }
 ],
 "metadata": {
  "kernelspec": {
   "display_name": "Python 3 (ipykernel)",
   "language": "python",
   "name": "python3"
  },
  "language_info": {
   "codemirror_mode": {
    "name": "ipython",
    "version": 3
   },
   "file_extension": ".py",
   "mimetype": "text/x-python",
   "name": "python",
   "nbconvert_exporter": "python",
   "pygments_lexer": "ipython3",
   "version": "3.11.6"
  }
 },
 "nbformat": 4,
 "nbformat_minor": 5
}
